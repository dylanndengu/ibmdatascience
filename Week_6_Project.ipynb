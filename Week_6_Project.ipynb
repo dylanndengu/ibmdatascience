{
 "cells": [
  {
   "cell_type": "markdown",
   "metadata": {},
   "source": [
    "<center>\n",
    "    <img src=\"https://cf-courses-data.s3.us.cloud-object-storage.appdomain.cloud/IBMDeveloperSkillsNetwork-DS0105EN-SkillsNetwork/labs/Module2/images/SN_web_lightmode.png\" width=\"300\" alt=\"cognitiveclass.ai logo\">\n",
    "</center>\n"
   ]
  },
  {
   "cell_type": "markdown",
   "metadata": {
    "jupyter": {
     "source_hidden": true
    },
    "tags": []
   },
   "source": [
    "#### Add your code below following the instructions given in the course\n"
   ]
  },
  {
   "cell_type": "markdown",
   "metadata": {
    "tags": []
   },
   "source": [
    "# Exercise 2 - My Project"
   ]
  },
  {
   "cell_type": "markdown",
   "metadata": {
    "tags": []
   },
   "source": [
    "## Exercise 3 - Hello, this is an introduction to my project"
   ]
  },
  {
   "cell_type": "markdown",
   "metadata": {},
   "source": [
    "### Exercise 4 - Here is a list of some popular Data Science Languages:\n",
    "\n",
    "* Python\n",
    "* R\n",
    "* SQL \n",
    "* Scala \n",
    "* Java\n",
    "* C++\n",
    "* Julia\n",
    "* JavaScript\n",
    "* PHP\n",
    "* Go\n",
    "* Ruby \n",
    "* Visual Basic"
   ]
  },
  {
   "cell_type": "markdown",
   "metadata": {},
   "source": [
    "### Exercise 5 - Here is a list of popular Data Science Libraries:\n",
    "\n",
    "For Visualization:\n",
    "\n",
    "* Matplotlib\n",
    "* Seaborn\n",
    "* Plotly\n",
    "* Ggplot2\n",
    "\n",
    "For Machine Learning:\n",
    "\n",
    "* Sci-kit Learn\n",
    "\n",
    "For Deep Learning:\n",
    "\n",
    "* Tensorflow\n",
    "* Keras\n",
    "* PyTorch\n",
    "\n",
    "For Cluster Computing:\n",
    "\n",
    "* Apache Spark\n",
    "\n",
    "\n"
   ]
  },
  {
   "cell_type": "markdown",
   "metadata": {},
   "source": [
    "### Exericse 6 - Here is a list of Data Science Tools:\n",
    "\n",
    "For Data Management:\n",
    "\n",
    "* MySQL\n",
    "* PostgreSQL\n",
    "* MongoDB \n",
    "* Apache CouchDB \n",
    "* Apache Cassandra\n",
    "* Hadoop \n",
    "\n",
    "For Data Integration and Transform:\n",
    "\n",
    "* Apache Airflow\n",
    "* KubeFlow\n",
    "* Apache Kafka\n",
    "\n",
    "For Data Visualization:\n",
    "\n",
    "* PixieDust\n",
    "* Hue\n",
    "* Kibana\n",
    "* Superset\n",
    "\n",
    "For Model Deployment\n",
    "\n",
    "* PredictionIO\n",
    "* Seldom \n",
    "* Mleap\n",
    "* TensorFlow Serving\n",
    "\n",
    "For Model Monitoring and Assessment:\n",
    "\n",
    "* ModelDB\n",
    "* Prometheus\n",
    "\n",
    "Code Asset Management:\n",
    "\n",
    "* Git\n",
    "* GitLab\n",
    "* GitHub\n",
    "\n",
    "\n",
    "Data Asset Management:\n",
    "\n",
    "* Apache Atlas\n",
    "* Kylo\n"
   ]
  },
  {
   "cell_type": "markdown",
   "metadata": {},
   "source": [
    "### Exercise 7 - Intro to Arithmetic\n",
    "\n",
    "In mathematics, arithmetic is a branch that deals with the properties and manipulation of numbers. Arithmetic expressions involve various operations such as addition, subtraction, multiplication, and division. Let's explore some examples to understand these concepts.\n",
    "\n",
    "#### Addition\n",
    "\n",
    "The addition operation is denoted by the `+` symbol. For example:\n",
    "\n",
    "\\[ 2 + 3 = 5 \\]\n",
    "\n",
    "#### Subtraction\n",
    "\n",
    "Subtraction uses the `-` symbol. For example:\n",
    "\n",
    "\\[ 7 - 4 = 3 \\]\n",
    "\n",
    "#### Multiplication\n",
    "\n",
    "Multiplication is represented by the `*` symbol. For example:\n",
    "\n",
    "\\[ 5 \\times 6 = 30 \\]\n",
    "\n",
    "#### Division\n",
    "\n",
    "Division uses the `/` symbol. For example:\n",
    "\n",
    "\\[ \\frac{10}{2} = 5 \\]\n",
    "\n",
    "These basic arithmetic operations serve as the foundation for more complex mathematical concepts. In Jupyter, you can use code cells to perform these calculations and observe the results interactively."
   ]
  },
  {
   "cell_type": "markdown",
   "metadata": {},
   "source": [
    "### Exercise 8"
   ]
  },
  {
   "cell_type": "code",
   "execution_count": 4,
   "metadata": {
    "tags": []
   },
   "outputs": [
    {
     "name": "stdout",
     "output_type": "stream",
     "text": [
      "The addition of 2 and 3 leads to the number 5\n",
      "The multiplication of 2 and 3 leads to the number 6\n"
     ]
    }
   ],
   "source": [
    "x = 2\n",
    "y = 3\n",
    "\n",
    "xy_add = x + y\n",
    "xy_mult = x * y\n",
    "\n",
    "print(f'The addition of {x} and {y} leads to the number {xy_add}')\n",
    "print(f'The multiplication of {x} and {y} leads to the number {xy_mult}')"
   ]
  },
  {
   "cell_type": "markdown",
   "metadata": {},
   "source": [
    "### Exercise 9"
   ]
  },
  {
   "cell_type": "code",
   "execution_count": 5,
   "metadata": {
    "tags": []
   },
   "outputs": [
    {
     "name": "stdout",
     "output_type": "stream",
     "text": [
      "190 minutes is equal to 1.5 hours\n"
     ]
    }
   ],
   "source": [
    "x_mins = 190\n",
    "\n",
    "x_hours = 90/60\n",
    "\n",
    "print(f'{x_mins} minutes is equal to {x_hours} hours')"
   ]
  },
  {
   "cell_type": "markdown",
   "metadata": {},
   "source": [
    "### Exercise 10 - List Objectives"
   ]
  },
  {
   "cell_type": "markdown",
   "metadata": {},
   "source": [
    "List of Objectives:\n",
    "\n",
    "* Exercise 2 - Create a markdown cell with the title of the notebook. (1 pt)\n",
    "\n",
    "* Exercise 3 - Create a markdown cell for an introduction. (1 pt)\n",
    "\n",
    "* Exercise 4 - Create a markdown cell to list data science languages. (3 pts)\n",
    "\n",
    "* Exercise 5 - Create a markdown cell to list data science libraries. (3 pts)\n",
    "\n",
    "* Exercise 6 - Create a markdown cell with a table of Data Science tools. (3 pts)\n",
    "\n",
    "* Exercise 7 - Create a markdown cell introducing arithmetic expression examples. (1 pt)\n",
    "\n",
    "* Exercise 8 - Create a code cell to multiply and add numbers. (2 pts)\n",
    "\n",
    "* Exercise 9 - Create a code cell to convert minutes to hours. (2 pts)\n",
    "\n",
    "* Exercise 10 -Insert a markdown cell to list Objectives. (3 pts)\n",
    "\n",
    "* Exercise 11 - Create a markdown cell to indicate the Author’s name. (2 pts)\n",
    "\n",
    "* Exercise 12 - Share your notebook through GitHub (3 pts)\n",
    "\n",
    "* Exercise 13 - Take a screenshot of the first page of the notebook. (1 pt) "
   ]
  },
  {
   "cell_type": "markdown",
   "metadata": {},
   "source": [
    "## Exercise 11 - Create a markdown cell to indicate the Author’s name"
   ]
  },
  {
   "cell_type": "markdown",
   "metadata": {
    "tags": []
   },
   "source": [
    "### Author : Dylan Tafara Ndengu"
   ]
  }
 ],
 "metadata": {
  "kernelspec": {
   "display_name": "Python",
   "language": "python",
   "name": "conda-env-python-py"
  },
  "language_info": {
   "codemirror_mode": {
    "name": "ipython",
    "version": 3
   },
   "file_extension": ".py",
   "mimetype": "text/x-python",
   "name": "python",
   "nbconvert_exporter": "python",
   "pygments_lexer": "ipython3",
   "version": "3.7.12"
  }
 },
 "nbformat": 4,
 "nbformat_minor": 4
}
